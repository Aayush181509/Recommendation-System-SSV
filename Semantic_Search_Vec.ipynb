{
 "cells": [
  {
   "cell_type": "markdown",
   "metadata": {},
   "source": [
    "<h2> Contextual Semantic Recommendation System Using Semantic Search Vector</h2>"
   ]
  },
  {
   "cell_type": "markdown",
   "metadata": {},
   "source": [
    "<p><h3> Live Coding Session <h4> Speaker Kshitiz Regmi"
   ]
  },
  {
   "cell_type": "markdown",
   "metadata": {},
   "source": [
    "Collaborative Filtering <br/>\n",
    "Content Based <br/>\n",
    "Hybrid Based <br/>\n",
    "\n",
    "\n",
    "Candidate Generation : most used architecture \\\n",
    "from vector database \\\n",
    "each candidate has it's scores \\\n",
    "and they are reranked. eg. Explicitly disliked items.\n",
    "\n",
    "Feature for content based recommendation system \n",
    "<li>title\n",
    "<li>text\n",
    "<li>tags\n",
    "<li>authors (may be)<br/>\n",
    "\n",
    "Embeddings captures semantic of a Text<br/>\n",
    "Use of Sentence Transformers\n",
    "\n",
    "Similarity Measure\n",
    "<li>Cosine\n",
    "<li>Dot product\n",
    "<li>Euclidean Distance\n",
    "<li>Manhattan Distance<br/>\n",
    "\n",
    "\n",
    "<h3>Vector Database: Chroma DB </h3>\n",
    "\n",
    "<li>Stores High dimensional vectors \\\n",
    "<li>efficient storage and retrieval \\\n",
    "<li>faster similarity search \\\n",
    "<li>Scalabiliity <br>\n",
    "\n",
    "Post -> Get Embeddings -> Semantic Search Using Approx KNN -> Candidate + Scores and remove current article if it is on candidates -> Recommend"
   ]
  },
  {
   "cell_type": "markdown",
   "metadata": {},
   "source": []
  },
  {
   "cell_type": "code",
   "execution_count": null,
   "metadata": {},
   "outputs": [],
   "source": []
  },
  {
   "cell_type": "code",
   "execution_count": null,
   "metadata": {},
   "outputs": [],
   "source": []
  },
  {
   "cell_type": "code",
   "execution_count": null,
   "metadata": {},
   "outputs": [],
   "source": []
  },
  {
   "cell_type": "code",
   "execution_count": null,
   "metadata": {},
   "outputs": [],
   "source": []
  },
  {
   "cell_type": "code",
   "execution_count": null,
   "metadata": {},
   "outputs": [],
   "source": []
  },
  {
   "cell_type": "code",
   "execution_count": null,
   "metadata": {},
   "outputs": [],
   "source": []
  },
  {
   "cell_type": "code",
   "execution_count": null,
   "metadata": {},
   "outputs": [],
   "source": []
  },
  {
   "cell_type": "code",
   "execution_count": null,
   "metadata": {},
   "outputs": [],
   "source": []
  },
  {
   "cell_type": "code",
   "execution_count": null,
   "metadata": {},
   "outputs": [],
   "source": []
  },
  {
   "cell_type": "code",
   "execution_count": null,
   "metadata": {},
   "outputs": [],
   "source": []
  },
  {
   "cell_type": "code",
   "execution_count": null,
   "metadata": {},
   "outputs": [],
   "source": []
  },
  {
   "cell_type": "code",
   "execution_count": null,
   "metadata": {},
   "outputs": [],
   "source": []
  },
  {
   "cell_type": "code",
   "execution_count": null,
   "metadata": {},
   "outputs": [],
   "source": []
  },
  {
   "cell_type": "code",
   "execution_count": null,
   "metadata": {},
   "outputs": [],
   "source": []
  },
  {
   "cell_type": "code",
   "execution_count": null,
   "metadata": {},
   "outputs": [],
   "source": []
  },
  {
   "cell_type": "code",
   "execution_count": null,
   "metadata": {},
   "outputs": [],
   "source": []
  }
 ],
 "metadata": {
  "kernelspec": {
   "display_name": "fuseenv",
   "language": "python",
   "name": "python3"
  },
  "language_info": {
   "codemirror_mode": {
    "name": "ipython",
    "version": 3
   },
   "file_extension": ".py",
   "mimetype": "text/x-python",
   "name": "python",
   "nbconvert_exporter": "python",
   "pygments_lexer": "ipython3",
   "version": "3.7.16"
  }
 },
 "nbformat": 4,
 "nbformat_minor": 2
}
